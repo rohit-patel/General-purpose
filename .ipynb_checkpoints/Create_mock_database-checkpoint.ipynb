{
 "cells": [
  {
   "cell_type": "code",
   "execution_count": 15,
   "metadata": {},
   "outputs": [],
   "source": [
    "import pandas as pd, numpy as np\n",
    "import datetime\n",
    "import random\n",
    "\n",
    "inv_cols = [\"Invoice Number\", \"Business Unit\", \"Department Code\", \"Customer Code\", \"Invoice Date\", \"Product Code\", \"Sales Rep ID\", \"Ship To\", \n",
    "            \"Not a Product?\", \"Invoice Amount (Local Currency)\", \"Invoice Amount (USD)\", \"Invoiced Quantity\"]\n",
    "\n",
    "bu_list = [\"BU-\"+str(i) for i in range(1,4,1)]\n",
    "dept_codes = [\"Dept-\"+\"{0:03}\".format(i) for i in range(1,15,1)]\n",
    "# site_list = [\"Tokyo\", \"New York\", \"Los Angeles\", \"London\", \"Chicago\", \"Paris\", \"Mexico City\", \"Philadelphia\", \"Buenos Aires\", \"Hong Kong\", \"Berlin\", \"Bangkok\", \"Singapore\", \"Delhi\"]\n",
    "customer_codes = [\"C\"+\"{0:05}\".format(i) for i in range(1,151,1)]\n",
    "time_period = [datetime.date(2018,1,1)+datetime.timedelta(days=i) for i in range(365)]\n",
    "product_codes = [\"P\"+\"{0:03}\".format(i) for i in range(1,51,1)]\n",
    "sales_rep_ids = [\"SR\"+\"{0:04}\".format(i) for i in range(1,31,1)]\n",
    "ship_to = [\"USA\", \"Germany\", \"Italy\", \"Japan\", \"France\", \"China\", \"India\", \"UK\", \"Thailand\", \"Singapore\"]\n",
    "\n",
    "fvars = [bu_list, dept_codes, customer_codes, time_period, product_codes, sales_rep_ids, ship_to]\n",
    "\n",
    "transaction_data = pd.DataFrame()\n",
    "for i in range(7):\n",
    "    transaction_data[inv_cols[i+1]] = random.choices(fvars[i],k=2000)\n",
    "transaction_data['Not a Product?']= False\n",
    "\n",
    "    \n",
    "prod_master = pd.DataFrame()\n"
   ]
  },
  {
   "cell_type": "code",
   "execution_count": 17,
   "metadata": {},
   "outputs": [
    {
     "data": {
      "text/html": [
       "<div>\n",
       "<style scoped>\n",
       "    .dataframe tbody tr th:only-of-type {\n",
       "        vertical-align: middle;\n",
       "    }\n",
       "\n",
       "    .dataframe tbody tr th {\n",
       "        vertical-align: top;\n",
       "    }\n",
       "\n",
       "    .dataframe thead th {\n",
       "        text-align: right;\n",
       "    }\n",
       "</style>\n",
       "<table border=\"1\" class=\"dataframe\">\n",
       "  <thead>\n",
       "    <tr style=\"text-align: right;\">\n",
       "      <th></th>\n",
       "      <th>Business Unit</th>\n",
       "      <th>Department Code</th>\n",
       "      <th>Customer Code</th>\n",
       "      <th>Invoice Date</th>\n",
       "      <th>Product Code</th>\n",
       "      <th>Sales Rep ID</th>\n",
       "      <th>Ship To</th>\n",
       "      <th>Not a Product?</th>\n",
       "    </tr>\n",
       "  </thead>\n",
       "  <tbody>\n",
       "    <tr>\n",
       "      <th>0</th>\n",
       "      <td>BU-2</td>\n",
       "      <td>Dept-011</td>\n",
       "      <td>C00065</td>\n",
       "      <td>2018-03-21</td>\n",
       "      <td>P014</td>\n",
       "      <td>SR0027</td>\n",
       "      <td>China</td>\n",
       "      <td>False</td>\n",
       "    </tr>\n",
       "    <tr>\n",
       "      <th>1</th>\n",
       "      <td>BU-2</td>\n",
       "      <td>Dept-014</td>\n",
       "      <td>C00075</td>\n",
       "      <td>2018-02-01</td>\n",
       "      <td>P032</td>\n",
       "      <td>SR0018</td>\n",
       "      <td>Italy</td>\n",
       "      <td>False</td>\n",
       "    </tr>\n",
       "    <tr>\n",
       "      <th>2</th>\n",
       "      <td>BU-2</td>\n",
       "      <td>Dept-013</td>\n",
       "      <td>C00106</td>\n",
       "      <td>2018-12-05</td>\n",
       "      <td>P041</td>\n",
       "      <td>SR0015</td>\n",
       "      <td>Italy</td>\n",
       "      <td>False</td>\n",
       "    </tr>\n",
       "    <tr>\n",
       "      <th>3</th>\n",
       "      <td>BU-3</td>\n",
       "      <td>Dept-013</td>\n",
       "      <td>C00136</td>\n",
       "      <td>2018-10-30</td>\n",
       "      <td>P033</td>\n",
       "      <td>SR0013</td>\n",
       "      <td>Italy</td>\n",
       "      <td>False</td>\n",
       "    </tr>\n",
       "    <tr>\n",
       "      <th>4</th>\n",
       "      <td>BU-1</td>\n",
       "      <td>Dept-009</td>\n",
       "      <td>C00004</td>\n",
       "      <td>2018-04-15</td>\n",
       "      <td>P038</td>\n",
       "      <td>SR0023</td>\n",
       "      <td>France</td>\n",
       "      <td>False</td>\n",
       "    </tr>\n",
       "  </tbody>\n",
       "</table>\n",
       "</div>"
      ],
      "text/plain": [
       "  Business Unit Department Code Customer Code Invoice Date Product Code  \\\n",
       "0          BU-2        Dept-011        C00065   2018-03-21         P014   \n",
       "1          BU-2        Dept-014        C00075   2018-02-01         P032   \n",
       "2          BU-2        Dept-013        C00106   2018-12-05         P041   \n",
       "3          BU-3        Dept-013        C00136   2018-10-30         P033   \n",
       "4          BU-1        Dept-009        C00004   2018-04-15         P038   \n",
       "\n",
       "  Sales Rep ID Ship To  Not a Product?  \n",
       "0       SR0027   China           False  \n",
       "1       SR0018   Italy           False  \n",
       "2       SR0015   Italy           False  \n",
       "3       SR0013   Italy           False  \n",
       "4       SR0023  France           False  "
      ]
     },
     "execution_count": 17,
     "metadata": {},
     "output_type": "execute_result"
    }
   ],
   "source": [
    "transaction_data.head()"
   ]
  },
  {
   "cell_type": "code",
   "execution_count": 51,
   "metadata": {},
   "outputs": [
    {
     "data": {
      "text/plain": [
       "array([ 9949.90818997,  6630.62769123,  9429.61414446, 15385.96747229,\n",
       "        8108.29393235, 10448.48195675,  3161.87306299,  -901.25714886,\n",
       "        3626.32884958, -6380.66275898,  6608.84684093,  7817.78689747,\n",
       "         861.57751429,  8383.24535899,  3467.02173497, 13102.89340233,\n",
       "        8036.16555261,  4182.69009774,  3799.1706751 , 20299.59273321,\n",
       "        5861.27827871, 22172.26821987, 10083.32417688,  3447.36060226,\n",
       "        9709.07814648,  8521.99751436,  6833.41011719,  7513.14428897,\n",
       "        5455.00637041, 12640.44849428,  7427.17836845, 10296.38821147,\n",
       "        9777.66341849, 16114.20919091,  4234.41114138, -1564.10733401,\n",
       "       18433.8774629 , 12841.8573665 ,  8685.15562433, -2839.65985983,\n",
       "        8253.86980787, 12896.32716489,   310.35495791,  2384.01790663,\n",
       "        4541.10872404,  5043.27524587, 12429.28832745, 11078.18196535,\n",
       "       14270.13040876,  6202.18576032,   950.99401015,  8078.47349726,\n",
       "        7536.07852444,  6765.19612075,  9179.76700396,  6469.91057921,\n",
       "       -4974.86018555, 13697.62209152,  5649.36872084,  8388.09102264,\n",
       "        5897.9830446 ,  8315.96002315, 13462.33821249,  8110.442135  ,\n",
       "        5793.96493943,  6318.73101068, -3228.68283547, 11809.23135193,\n",
       "        9944.18270992,  7799.20561209,  7172.23921282, 16077.95683441,\n",
       "       10387.77980954,  6727.71104915,  8571.56422761, 10848.60039432,\n",
       "        5512.62596895, 13446.16940443,  6306.2996153 , 10854.19625616,\n",
       "        7217.32482705,  6916.08301647, 27955.89153542,  7074.19915367,\n",
       "        5984.21559989, 14658.91481625,  7510.43050663, 10090.23958337,\n",
       "         815.36146389,  4202.06002904, 14782.01117635,  9985.99196121,\n",
       "        1928.25034413,  4282.88139366,  8089.16181085,   862.02238606,\n",
       "        6205.16950707,  8164.91737733, 11764.54102281,  5561.33219486,\n",
       "        3157.08633418, 12903.00617514,  6226.81118996, 11203.38340912,\n",
       "        6161.40832996, -2842.30316595, 19003.75093373, 13134.86944685,\n",
       "        5536.97767754, 13147.4521313 ,  9722.90331986,  4539.86371062,\n",
       "        6440.96736097, 11853.67394733,  3371.43941435, 11741.31577614,\n",
       "        6650.01260181,  5447.58082935,  6219.91144664, -4633.96129781,\n",
       "       10913.59374085,  8923.09444185,  2014.01166383,  9500.98933656,\n",
       "        5224.81673085, 10928.32669248, -5397.25793565,  6044.35618988,\n",
       "        5880.61030287,  7848.34083473, 10352.41339814, 13243.46971812,\n",
       "       10529.39979559, 16911.42296367, 17850.33713679,  3920.7258496 ,\n",
       "        8152.68333624, 16352.34823562, -3072.59574195,  8604.40392607,\n",
       "       11600.37096518, 13427.87357704, 15406.35140418,  9614.95800419,\n",
       "        7317.92191695, 10100.80298941, -6398.63215266, 13132.30593827,\n",
       "       12923.98530964,  8787.66000114, 22962.17183468,  5666.99748535,\n",
       "        8789.26437088, 17116.51914187,  6646.2870151 ,  8790.09481142,\n",
       "         502.00914556, 20870.26939395,  5630.76939991,  9337.79430165,\n",
       "        4678.44159284,  5940.02204095, 11874.18103505,  9634.27611394,\n",
       "        3160.44658448,  6779.95445368,  9907.0239329 ,  9193.1050084 ,\n",
       "        2430.35696959, 18054.16051032, 17999.70977128,  6078.15813238,\n",
       "        7812.84164294, 15621.55935613,  7798.31924403,  8211.76758029,\n",
       "       13646.81315852, 11176.67562991,  8108.5585639 ,  8145.72314794,\n",
       "        5022.5105775 , 13272.88282669,  8392.25461195,  8490.83804675,\n",
       "        2881.82972058,  6277.66575293,  9288.10405598, 18465.43537091,\n",
       "        6520.81934112,  9790.47890232,  5831.65085479,  7278.33016367,\n",
       "        8687.06416176, 10145.38447804, 18522.29577591, -3045.17555377,\n",
       "       14045.10524828,  5311.42823074, 17107.28455534, 13545.27526337])"
      ]
     },
     "execution_count": 51,
     "metadata": {},
     "output_type": "execute_result"
    }
   ],
   "source": [
    "np.random.logistic(9000,3000,200)"
   ]
  },
  {
   "cell_type": "code",
   "execution_count": 52,
   "metadata": {},
   "outputs": [],
   "source": [
    "from matplotlib import pyplot as plt"
   ]
  },
  {
   "cell_type": "code",
   "execution_count": 53,
   "metadata": {},
   "outputs": [
    {
     "data": {
      "text/plain": [
       "[<matplotlib.lines.Line2D at 0x15058532c18>]"
      ]
     },
     "execution_count": 53,
     "metadata": {},
     "output_type": "execute_result"
    },
    {
     "data": {
      "image/png": "[encoded data removed]",
      "text/plain": [
       "<Figure size 432x288 with 1 Axes>"
      ]
     },
     "metadata": {},
     "output_type": "display_data"
    }
   ],
   "source": [
    "plt.plot(range(5))"
   ]
  },
  {
   "cell_type": "code",
   "execution_count": null,
   "metadata": {},
   "outputs": [],
   "source": []
  }
 ],
 "metadata": {
  "kernelspec": {
   "display_name": "Python 3",
   "language": "python",
   "name": "python3"
  },
  "language_info": {
   "codemirror_mode": {
    "name": "ipython",
    "version": 3
   },
   "file_extension": ".py",
   "mimetype": "text/x-python",
   "name": "python",
   "nbconvert_exporter": "python",
   "pygments_lexer": "ipython3",
   "version": "3.6.5"
  }
 },
 "nbformat": 4,
 "nbformat_minor": 2
}
