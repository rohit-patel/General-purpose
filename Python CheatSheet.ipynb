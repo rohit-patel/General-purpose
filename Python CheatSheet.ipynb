{
 "cells": [
  {
   "cell_type": "markdown",
   "metadata": {},
   "source": [
    "## Python Cheatsheet\n",
    "### Python Lists, Tuples, Sets, and Dictionaries"
   ]
  },
  {
   "cell_type": "code",
   "execution_count": 137,
   "metadata": {
    "collapsed": false
   },
   "outputs": [
    {
     "name": "stdout",
     "output_type": "stream",
     "text": [
      "Index of 'ex' in list is: 8\n",
      "Reverse sorted copy of list: [20, 16, 12, 8, 5.5, 4, 0]\n",
      "Is 16 in x? True\n",
      "Value for 'MONDAY' key: some_val\n",
      "1 TUESDAY\n",
      "2 WEDNESDAY\n",
      "3 THURSDAY\n",
      "4 FRIDAY\n",
      "5 SATURDAY\n",
      "6 SUNDAY\n"
     ]
    }
   ],
   "source": [
    "## List\n",
    "x = list(range(0,21,4))\n",
    "x.insert(2,'in1') # Insert an element at second position\n",
    "x.append('a1') # Append an element to the end\n",
    "x.extend(['ex','ex']) # Extend the list by adding all the elements of another list to the end\n",
    "print('Index of \\'ex\\' in list is:', x.index('ex')) # Return the index of the first occurence of an element (also works on tuples)\n",
    "x.pop() # Return the last element of a list and remove it from the list (doesn't work for tuples and will pop a random element if used on sets)\n",
    "x.remove('a1') # Remove first occurence of element 'a1' from list\n",
    "del x[-1] # Delete last element from list\n",
    "x.reverse() #reverse order of the list\n",
    "y = x.copy() # Create a copy of the list\n",
    "x = x[0:7] # Slice a list\n",
    "x[4] = 5.5  # Reassign a value to a list element (can't use it to assign a new value to be added to the list, must use append there)\n",
    "x.sort() # Sort list if sortable (i.e. if all elements can be compared)\n",
    "minx,maxx,sumx = (min(x),max(x),sum(x))  # Assign multiple values using tuples; calcualte min, max, sum on a list (also works on tuples and sets)\n",
    "print('Reverse sorted copy of list:', sorted(x,reverse=True))  # Return a sorted copy of x but don't change x itself\n",
    "print('Is 16 in x?', 16 in x)  # Check if something is in a list, set or a tuple\n",
    "\n",
    "\n",
    "## Sets\n",
    "x = set(range(0,21,4))\n",
    "y = set(range(12,25,2))\n",
    "x.difference(y) # Equal to 'x-y' and gives all elements only in x (and not in y)\n",
    "x.union(y) # Equal to 'x-y' and gives all elements only in x (and not in y)\n",
    "x.intersection(y) # Equal to 'x-y' and gives all elements only in x (and not in y)\n",
    "x.symmetric_difference(y) # Returns elements in union minus intersection (equivalent to y.symmetric_differenc(x) )\n",
    "x.add('a') # Add 'a' to the set x\n",
    "x.update(y,[9,7]) # Can take more than one sets, lists or other things as or\n",
    "x.remove('a') # Discard element. Throw error if element does not exist\n",
    "x.discard('a') # Discard element. Do not throw error if element does not exist\n",
    "y.issubset(x) # Is y a subset of x. Return True or False\n",
    "y.issuperset(x) # Is y a superset of x. Return True or False\n",
    "\n",
    "## Dictionary\n",
    "x = dict(zip(('MONDAY', 'TUESDAY', 'WEDNESDAY', 'THURSDAY', 'FRIDAY', 'SATURDAY', 'SUNDAY'),range(7)))\n",
    "x.pop('MONDAY','some_value_to_return_when_key_missing (optional)')  # Remove a key (along with associated value) from the dictionary. Absence of key in dict and that of optional argument with throw error\n",
    "print('Value for \\'MONDAY\\' key:', x.get('MONDAY','some_val'))  # Return 'some_val' with \"get\" method instead of 0 since MONDAY:0 key:val pair was removed.\n",
    "x = {value:key for key, value in x.items()} # Dictionary comprehension\n",
    "for key,val in x.items():  # Iterate over a dictionary key,value pairs\n",
    "    print(key,val)"
   ]
  },
  {
   "cell_type": "markdown",
   "metadata": {
    "collapsed": false
   },
   "source": [
    "### Strings and Regular Expressions"
   ]
  },
  {
   "cell_type": "code",
   "execution_count": 5,
   "metadata": {
    "collapsed": false
   },
   "outputs": [
    {
     "name": "stdout",
     "output_type": "stream",
     "text": [
      "29384723 KB is 29.4 GB.\n",
      "29384723 Kb Is 29.4 Gb.\n",
      "12\n",
      "['29384723', 'KB', 'is-29.4-GB.']\n"
     ]
    }
   ],
   "source": [
    "SUFFIXES = ['KB', 'MB', 'GB', 'TB', 'PB', 'EB', 'ZB', 'YB']\n",
    "sizekb = 29384723\n",
    "sizemb = sizekb/1000000\n",
    "s1 = '{1} {0[0]} is {2:.1f} {0[2]}.'.format(SUFFIXES, sizekb, sizemb)  # String formatting. Note you can call elements of a list by passing a list here. \n",
    "                                                                       # \":\" marks begining of format specifier. The \".1\" makes sure you show 1 decimal places and \n",
    "                                                                       # \"f\" specifies it to show as fixed-point number (as opposed to e for exponential)\n",
    "print(s1)\n",
    "print(s1.title()) # Return a new string with title case, i.e. first letter caps. Same for \".lower()\" and \".upper()\" works.\n",
    "print(s1.find('is')) # Find and return the index of the begining of the first letter of a given substring in the sring.\n",
    "s1.count('is') # Return count of a substring.\n",
    "s1 = s1.replace(' ','-') # Return a new string by replacing all occurences of space by '-'\n",
    "print(s1.split('-',2)) # Split using first two occurences of the specified demiliter '-' giving list of len 3. \".splitlines()\" similarly splits into lines.\n",
    "\n",
    "\n",
    "## Regex\n",
    "import re\n",
    "p1 = '^M{0,3}(XC|XL|L?X{0,3})$'\n",
    "re.search(p1, 'MMLXXX')  # Search for pattern in a string and return the method\n",
    "pattern = '''\n",
    "    ^                   # match beginning of string\n",
    "    M{0,3}              # match 0 to 3 Ms\n",
    "    (XC|XL|L?X{0,3})    # match XC OR XL OR 0 to 1 L followed by 0 to 3 Xs\n",
    "    $                   # match end of string\n",
    "    ''' # This verbose pattern is same as the pattern p1 above\n",
    "re.search(pattern, 'MMLXXX', re.VERBOSE) # To searcha  verbose pattern an extra argument must be passed - unless it is compiled with the right flags below\n",
    "\n",
    "# Another pattern to help\n",
    "phonePattern = re.compile(r'''\n",
    "                # don't match beginning of string, number can start anywhere\n",
    "    (\\d{3})     # area code is 3 digits (e.g. '800')\n",
    "    \\D*         # optional separator is any number of non-digits\n",
    "    (\\d{3})     # trunk is 3 digits (e.g. '555')\n",
    "    \\D*         # optional separator\n",
    "    (\\d{4})     # rest of number is 4 digits (e.g. '1212')\n",
    "    \\D*         # optional separator\n",
    "    (\\d*)       # extension is optional and can be any number of digits\n",
    "    $           # end of string\n",
    "    ''', re.VERBOSE)\n",
    "\n",
    "# Complete comments on: re.search, match, fullmatch, split, findall, finditer, sub, subn, escape"
   ]
  },
  {
   "cell_type": "markdown",
   "metadata": {
    "collapsed": true
   },
   "source": [
    "### Generators, Classes, and Iterators"
   ]
  },
  {
   "cell_type": "code",
   "execution_count": 95,
   "metadata": {
    "collapsed": false
   },
   "outputs": [
    {
     "name": "stdout",
     "output_type": "stream",
     "text": [
      "0\n",
      "1\n",
      "1\n",
      "2\n",
      "3\n",
      "5\n",
      "8\n",
      "13\n",
      "21\n",
      "34\n"
     ]
    }
   ],
   "source": [
    "# Define a fibonacci generator\n",
    "def fib(max): \n",
    "    '''Fibonacci generator up to a max value.'''\n",
    "    a, b = 0, 1\n",
    "    while a < max:\n",
    "        yield a\n",
    "        a, b = b, a + b\n",
    "        \n",
    "fib50 = fib(50)  # Construct the generator that will generate values up to 1000 when used\n",
    "for i in fib50:  # Use the generator\n",
    "    print(i)\n",
    "    \n",
    "gen1 = (i**2 for i in range(50) if i%2==1) # Generators can be created same as using list comprehensions. Here we have one that generates sqares of all odd numbers below 50\n",
    "    \n",
    "'''A class is the blueprint of an object that can have variables and methods defined (data attributes and method attributes of the class) by the user. \n",
    "Variables can be instance variables or class variables. Data attributes will usually overwrite method attributes so naming conventions can be valuable.\n",
    "An iterator is an object with a __next__ method. Below is a custom class that implements the Fib iterator from scratch.\n",
    "'''\n",
    "class Fib:\n",
    "    classvar1 = 0  # Example of a calss variable (not used in this class, simply here to illustrate). self.classvar1 will get you this variable.\n",
    "    \n",
    "    def __init__(self, max): # An init method is called when a class is instatiated. You should pass these arguments to the class when creating the instance.\n",
    "        self.max = max   # Example of an instance variable\n",
    "\n",
    "    def __iter__(self):  # This method makes this class an iterable. This method returns an iterator - something that has __next__ method, in this case self.\n",
    "        self.a = 0\n",
    "        self.b = 1\n",
    "        return self\n",
    "\n",
    "    def __next__(self):  # An iterator is something that implements this __next__ method. In this case self is both the iterable and iterator but doesn't have to be.\n",
    "        fib = self.a\n",
    "        if fib > self.max:\n",
    "            raise StopIteration\n",
    "        self.a, self.b = self.b, self.a + self.b\n",
    "        return fib"
   ]
  }
 ],
 "metadata": {
  "kernelspec": {
   "display_name": "Python 3",
   "language": "python",
   "name": "python3"
  },
  "language_info": {
   "codemirror_mode": {
    "name": "ipython",
    "version": 3
   },
   "file_extension": ".py",
   "mimetype": "text/x-python",
   "name": "python",
   "nbconvert_exporter": "python",
   "pygments_lexer": "ipython3",
   "version": "3.6.0"
  }
 },
 "nbformat": 4,
 "nbformat_minor": 2
}
