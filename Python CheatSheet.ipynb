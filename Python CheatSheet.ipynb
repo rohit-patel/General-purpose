{
 "cells": [
  {
   "cell_type": "markdown",
   "metadata": {},
   "source": [
    "## Python Cheatsheet\n",
    "### Python Lists, Tuples, Sets, and Dictionaries"
   ]
  },
  {
   "cell_type": "code",
   "execution_count": 137,
   "metadata": {
    "collapsed": false
   },
   "outputs": [
    {
     "name": "stdout",
     "output_type": "stream",
     "text": [
      "Index of 'ex' in list is: 8\n",
      "Reverse sorted copy of list: [20, 16, 12, 8, 5.5, 4, 0]\n",
      "Is 16 in x? True\n",
      "Value for 'MONDAY' key: some_val\n",
      "1 TUESDAY\n",
      "2 WEDNESDAY\n",
      "3 THURSDAY\n",
      "4 FRIDAY\n",
      "5 SATURDAY\n",
      "6 SUNDAY\n"
     ]
    }
   ],
   "source": [
    "## List\n",
    "x = list(range(0,21,4))\n",
    "x.insert(2,'in1') # Insert an element at second position\n",
    "x.append('a1') # Append an element to the end\n",
    "x.extend(['ex','ex']) # Extend the list by adding all the elements of another list to the end\n",
    "print('Index of \\'ex\\' in list is:', x.index('ex')) # Return the index of the first occurence of an element (also works on tuples)\n",
    "x.pop() # Return the last element of a list and remove it from the list (doesn't work for tuples and will pop a random element if used on sets)\n",
    "x.remove('a1') # Remove first occurence of element 'a1' from list\n",
    "del x[-1] # Delete last element from list\n",
    "x.reverse() #reverse order of the list\n",
    "y = x.copy() # Create a copy of the list\n",
    "x = x[0:7] # Slice a list\n",
    "x[4] = 5.5  # Reassign a value to a list element (can't use it to assign a new value to be added to the list, must use append there)\n",
    "x.sort() # Sort list if sortable (i.e. if all elements can be compared)\n",
    "minx,maxx,sumx = (min(x),max(x),sum(x))  # Assign multiple values using tuples; calcualte min, max, sum on a list (also works on tuples and sets)\n",
    "print('Reverse sorted copy of list:', sorted(x,reverse=True))  # Return a sorted copy of x but don't change x itself\n",
    "print('Is 16 in x?', 16 in x)  # Check if something is in a list, set or a tuple\n",
    "\n",
    "\n",
    "## Sets\n",
    "x = set(range(0,21,4))\n",
    "y = set(range(12,25,2))\n",
    "x.difference(y) # Equal to 'x-y' and gives all elements only in x (and not in y)\n",
    "x.union(y) # Equal to 'x-y' and gives all elements only in x (and not in y)\n",
    "x.intersection(y) # Equal to 'x-y' and gives all elements only in x (and not in y)\n",
    "x.symmetric_difference(y) # Returns elements in union minus intersection (equivalent to y.symmetric_differenc(x) )\n",
    "x.add('a') # Add 'a' to the set x\n",
    "x.update(y,[9,7]) # Can take more than one sets, lists or other things as or\n",
    "x.remove('a') # Discard element. Throw error if element does not exist\n",
    "x.discard('a') # Discard element. Do not throw error if element does not exist\n",
    "y.issubset(x) # Is y a subset of x. Return True or False\n",
    "y.issuperset(x) # Is y a superset of x. Return True or False\n",
    "\n",
    "## Dictionary\n",
    "x = dict(zip(('MONDAY', 'TUESDAY', 'WEDNESDAY', 'THURSDAY', 'FRIDAY', 'SATURDAY', 'SUNDAY'),range(7)))\n",
    "x.pop('MONDAY','some_value_to_return_when_key_missing (optional)')  # Remove a key (along with associated value) from the dictionary. Absence of key in dict and that of optional argument with throw error\n",
    "print('Value for \\'MONDAY\\' key:', x.get('MONDAY','some_val'))  # Return 'some_val' with \"get\" method instead of 0 since MONDAY:0 key:val pair was removed.\n",
    "x = {value:key for key, value in x.items()} # Dictionary comprehension\n",
    "for key,val in x.items():  # Iterate over a dictionary key,value pairs\n",
    "    print(key,val)"
   ]
  },
  {
   "cell_type": "markdown",
   "metadata": {
    "collapsed": false
   },
   "source": [
    "### Strings and Regular Expressions"
   ]
  },
  {
   "cell_type": "code",
   "execution_count": 225,
   "metadata": {
    "collapsed": false
   },
   "outputs": [
    {
     "name": "stdout",
     "output_type": "stream",
     "text": [
      "29384723 KB is 29.4 GB.\n",
      "29384723 Kb Is 29.4 Gb.\n",
      "12\n",
      "['29384723', 'KB', 'is-29.4-GB.']\n"
     ]
    },
    {
     "data": {
      "text/plain": [
       "<_sre.SRE_Match object; span=(0, 6), match='MMLXXX'>"
      ]
     },
     "execution_count": 225,
     "metadata": {},
     "output_type": "execute_result"
    }
   ],
   "source": [
    "SUFFIXES = ['KB', 'MB', 'GB', 'TB', 'PB', 'EB', 'ZB', 'YB']\n",
    "sizekb = 29384723\n",
    "sizemb = sizekb/1000000\n",
    "s1 = '{1} {0[0]} is {2:.1f} {0[2]}.'.format(SUFFIXES, sizekb, sizemb)  # String formatting. Note you can call elements of a list by passing a list here. \n",
    "                                                                       # \":\" marks begining of format specifier. The \".1\" makes sure you show 1 decimal places and \n",
    "                                                                       # \"f\" specifies it to show as fixed-point number (as opposed to e for exponential)\n",
    "print(s1)\n",
    "print(s1.title()) # Return a new string with title case, i.e. first letter caps. Same for \".lower()\" and \".upper()\" works.\n",
    "print(s1.find('is')) # Find and return the index of the begining of the first letter of a given substring in the sring.\n",
    "s1.count('is') # Return count of a substring.\n",
    "s1 = s1.replace(' ','-') # Return a new string by replacing all occurences of space by '-'\n",
    "print(s1.split('-',2)) # Split using first two occurences of the specified demiliter '-' giving list of len 3. \".splitlines()\" similarly splits into lines.\n",
    "\n",
    "\n",
    "## Regex\n",
    "import re\n",
    "p1 = '^M{0,3}(XC|XL|L?X{0,3})$'\n",
    "re.search(pattern, 'MMLXXX', re.VERBOSE)  # Search for pattern in a string and return the method\n",
    "pattern = '''\n",
    "    ^                   # match beginning of string\n",
    "    M{0,3}              # match 0 to 3 Ms\n",
    "    (XC|XL|L?X{0,3})    # match XC OR XL OR 0 to 1 L followed by 0 to 3 Xs\n",
    "    $                   # match end of string\n",
    "    ''' # This verbose pattern is same as the pattern p1 above\n",
    "re.search(pattern, 'MMLXXX', re.VERBOSE) # To searcha  verbose pattern an extra argument must be passed"
   ]
  },
  {
   "cell_type": "markdown",
   "metadata": {
    "collapsed": true
   },
   "source": [
    "### Generators"
   ]
  },
  {
   "cell_type": "code",
   "execution_count": 94,
   "metadata": {
    "collapsed": true
   },
   "outputs": [],
   "source": [
    "x=1\n",
    "y=1."
   ]
  },
  {
   "cell_type": "code",
   "execution_count": 119,
   "metadata": {
    "collapsed": false
   },
   "outputs": [],
   "source": [
    "x = [1,2,3]"
   ]
  },
  {
   "cell_type": "code",
   "execution_count": 120,
   "metadata": {
    "collapsed": false
   },
   "outputs": [],
   "source": [
    "y = [1,2,3]"
   ]
  },
  {
   "cell_type": "code",
   "execution_count": 121,
   "metadata": {
    "collapsed": false
   },
   "outputs": [],
   "source": [
    "z = y"
   ]
  },
  {
   "cell_type": "code",
   "execution_count": 122,
   "metadata": {
    "collapsed": false
   },
   "outputs": [
    {
     "data": {
      "text/plain": [
       "False"
      ]
     },
     "execution_count": 122,
     "metadata": {},
     "output_type": "execute_result"
    }
   ],
   "source": [
    "x is y"
   ]
  },
  {
   "cell_type": "code",
   "execution_count": 104,
   "metadata": {
    "collapsed": false
   },
   "outputs": [
    {
     "data": {
      "text/plain": [
       "4"
      ]
     },
     "execution_count": 104,
     "metadata": {},
     "output_type": "execute_result"
    }
   ],
   "source": [
    "z.pop()"
   ]
  },
  {
   "cell_type": "code",
   "execution_count": 114,
   "metadata": {
    "collapsed": false
   },
   "outputs": [
    {
     "data": {
      "text/plain": [
       "True"
      ]
     },
     "execution_count": 114,
     "metadata": {},
     "output_type": "execute_result"
    }
   ],
   "source": [
    "y is z"
   ]
  },
  {
   "cell_type": "code",
   "execution_count": 112,
   "metadata": {
    "collapsed": false
   },
   "outputs": [
    {
     "data": {
      "text/plain": [
       "[1, 2, 3]"
      ]
     },
     "execution_count": 112,
     "metadata": {},
     "output_type": "execute_result"
    }
   ],
   "source": [
    "y"
   ]
  },
  {
   "cell_type": "code",
   "execution_count": 113,
   "metadata": {
    "collapsed": false
   },
   "outputs": [
    {
     "data": {
      "text/plain": [
       "[1, 2, 3]"
      ]
     },
     "execution_count": 113,
     "metadata": {},
     "output_type": "execute_result"
    }
   ],
   "source": [
    "x"
   ]
  },
  {
   "cell_type": "code",
   "execution_count": null,
   "metadata": {
    "collapsed": true
   },
   "outputs": [],
   "source": []
  }
 ],
 "metadata": {
  "kernelspec": {
   "display_name": "Python 3",
   "language": "python",
   "name": "python3"
  },
  "language_info": {
   "codemirror_mode": {
    "name": "ipython",
    "version": 3
   },
   "file_extension": ".py",
   "mimetype": "text/x-python",
   "name": "python",
   "nbconvert_exporter": "python",
   "pygments_lexer": "ipython3",
   "version": "3.6.0"
  }
 },
 "nbformat": 4,
 "nbformat_minor": 2
}
