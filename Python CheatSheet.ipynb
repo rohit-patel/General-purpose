{
 "cells": [
  {
   "cell_type": "markdown",
   "metadata": {},
   "source": [
    "## Python Cheatsheet\n",
    "### Python Lists, Tuples, and Sets"
   ]
  },
  {
   "cell_type": "code",
   "execution_count": 31,
   "metadata": {
    "collapsed": false
   },
   "outputs": [
    {
     "name": "stdout",
     "output_type": "stream",
     "text": [
      "Index of 'ex' in list is: 8\n",
      "Reverse sorted copy of list: [20, 16, 12, 8, 5.5, 4, 0]\n",
      "Is 16 in x? True\n",
      "Index in tuple is: 2\n",
      "{0, 4, 7, 8, 9, 12, 14, 16, 18, 20, 22, 24, 'a'}\n"
     ]
    }
   ],
   "source": [
    "## List\n",
    "x = list(range(0,21,4))\n",
    "x.insert(2,'in1') # Insert an element at second position\n",
    "x.append('a1') # Append an element to the end\n",
    "x.extend(['ex','ex']) # Extend the list by adding all the elements of another list to the end\n",
    "print('Index of \\'ex\\' in list is:', x.index('ex')) # Return the index of the first occurence of an element (also works on tuples)\n",
    "x.pop() # Return the last element of a list and remove it from the list\n",
    "x.remove('a1') # Remove first occurence of element 'a1' from list\n",
    "del x[-1] # Delete last element from list\n",
    "x.reverse() #reverse order of the list\n",
    "y = x.copy() # Create a copy of the list\n",
    "x = x[0:7] # Slice a list\n",
    "x[4] = 5.5  # Reassign a value to a list element (can't use it to assign a new value to be added to the list, must use append there)\n",
    "x.sort() # Sort list if sortable (i.e. if all elements can be compared)\n",
    "minx,maxx,sumx = (min(x),max(x),sum(x))  # Assign multiple values using tuples; calcualte min, max, sum on a list (also works on tuples and sets)\n",
    "print('Reverse sorted copy of list:', sorted(x,reverse=True))  # Return a sorted copy of x but don't change x itself\n",
    "print('Is 16 in x?', 16 in x)  # Check if something is in a list, set or a tuple\n",
    "## Tuples\n",
    "x = tuple(range(0,21,4))\n",
    "print('Index in tuple is:', x.index(8)) # Return the index of the first occurence of an element\n",
    "\n",
    "## Sets\n",
    "x = set(range(0,21,4))\n",
    "y = set(range(12,25,2))\n",
    "x.difference(y) # Equal to 'x-y' and gives all elements only in x (and not in y)\n",
    "x.union(y) # Equal to 'x-y' and gives all elements only in x (and not in y)\n",
    "x.intersection(y) # Equal to 'x-y' and gives all elements only in x (and not in y)\n",
    "x.symmetric_difference(y) # Returns elements in union minus intersection (equivalent to y.symmetric_differenc(x) )\n",
    "x.add('a') # Add 'a' to the set x\n",
    "x.update(y,[9,7]) # Can take more than one sets, lists or other things as or\n",
    "x.remove('a') # Discard element. Do not throw error if element does not exist\n",
    "x.discard(a) # Discard element. Do not throw error if element does not exist"
   ]
  },
  {
   "cell_type": "code",
   "execution_count": 28,
   "metadata": {
    "collapsed": false
   },
   "outputs": [
    {
     "data": {
      "text/plain": [
       "{0, 4, 8, 12, 14, 16, 18, 20, 22, 24, 'a'}"
      ]
     },
     "execution_count": 28,
     "metadata": {},
     "output_type": "execute_result"
    }
   ],
   "source": [
    "x"
   ]
  },
  {
   "cell_type": "code",
   "execution_count": 18,
   "metadata": {
    "collapsed": false
   },
   "outputs": [
    {
     "data": {
      "text/plain": [
       "{0, 4, 8, 12, 16, 20}"
      ]
     },
     "execution_count": 18,
     "metadata": {},
     "output_type": "execute_result"
    }
   ],
   "source": [
    "x"
   ]
  },
  {
   "cell_type": "code",
   "execution_count": 20,
   "metadata": {
    "collapsed": false
   },
   "outputs": [
    {
     "data": {
      "text/plain": [
       "{14, 18, 22, 24}"
      ]
     },
     "execution_count": 20,
     "metadata": {},
     "output_type": "execute_result"
    }
   ],
   "source": [
    "y-x"
   ]
  },
  {
   "cell_type": "code",
   "execution_count": null,
   "metadata": {
    "collapsed": true
   },
   "outputs": [],
   "source": []
  }
 ],
 "metadata": {
  "kernelspec": {
   "display_name": "Python 3",
   "language": "python",
   "name": "python3"
  },
  "language_info": {
   "codemirror_mode": {
    "name": "ipython",
    "version": 3
   },
   "file_extension": ".py",
   "mimetype": "text/x-python",
   "name": "python",
   "nbconvert_exporter": "python",
   "pygments_lexer": "ipython3",
   "version": "3.6.0"
  }
 },
 "nbformat": 4,
 "nbformat_minor": 2
}
